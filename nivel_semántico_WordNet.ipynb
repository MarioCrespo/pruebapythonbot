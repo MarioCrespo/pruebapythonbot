{
  "cells": [
    {
      "cell_type": "markdown",
      "metadata": {
        "id": "view-in-github",
        "colab_type": "text"
      },
      "source": [
        "<a href=\"https://colab.research.google.com/github/MarioCrespo/pruebapythonbot/blob/master/nivel_sem%C3%A1ntico_WordNet.ipynb\" target=\"_parent\"><img src=\"https://colab.research.google.com/assets/colab-badge.svg\" alt=\"Open In Colab\"/></a>"
      ]
    },
    {
      "cell_type": "markdown",
      "metadata": {
        "Collapsed": "false",
        "id": "Jyqx6fi04-np"
      },
      "source": [
        "## Recursos Léxicos: WordNet\n",
        "\n",
        "[Wordnet](https://wordnet.princeton.edu) es una red semántica para el inglés. En esencia, es similar a un diccionario pero está organizado por *synsets* (conjunto de palabras sinónimas) y no por lemas. Podemos acceder a WordNet a través de NLTK, de manera similar a como accedemos desde el [interfaz web](http://wordnetweb.princeton.edu/perl/webwn):\n",
        " "
      ]
    },
    {
      "cell_type": "code",
      "execution_count": null,
      "metadata": {
        "Collapsed": "false",
        "id": "fUOO0eie4-nq",
        "colab": {
          "base_uri": "https://localhost:8080/"
        },
        "outputId": "10a6034b-64d3-47b6-c126-db0a5607fecd"
      },
      "outputs": [
        {
          "output_type": "stream",
          "name": "stderr",
          "text": [
            "[nltk_data] Downloading package wordnet to /root/nltk_data...\n"
          ]
        }
      ],
      "source": [
        "import nltk\n",
        "nltk.download('wordnet')\n",
        "from nltk.corpus import wordnet as wn"
      ]
    },
    {
      "cell_type": "markdown",
      "metadata": {
        "Collapsed": "false",
        "id": "bbkspbv44-nq"
      },
      "source": [
        "Para consultar los synsets en los que aparece una determinada palabra, podemos utilizar el método `.synsets` como se muestra en el ejemplo. Como resultado obtenemos una lista con todos los synsets en los que aparece la palabra."
      ]
    },
    {
      "cell_type": "code",
      "execution_count": null,
      "metadata": {
        "Collapsed": "false",
        "id": "5wGeqIRF4-nr",
        "colab": {
          "base_uri": "https://localhost:8080/"
        },
        "outputId": "d027317a-a7ce-4a5f-ec57-29b1980e1929"
      },
      "outputs": [
        {
          "output_type": "stream",
          "name": "stdout",
          "text": [
            "[Synset('sword.n.01')]\n",
            "[Synset('car.n.01'), Synset('car.n.02'), Synset('car.n.03'), Synset('car.n.04'), Synset('cable_car.n.01')]\n"
          ]
        }
      ],
      "source": [
        "# buscamos los synsets en los que aparece la palabra sword\n",
        "print(wn.synsets(\"sword\"))\n",
        "\n",
        "# y buscamos car\n",
        "print(wn.synsets(\"car\"))"
      ]
    },
    {
      "cell_type": "markdown",
      "metadata": {
        "Collapsed": "false",
        "id": "h8t4fqpe4-ns"
      },
      "source": [
        "En este caso, la palabra *sword* solo aparece en un synset, lo que implica que solo tiene un sentido. Además, sabemos que es un sustantivo, porque el nombre de synset está etiquetado como `n`.\n",
        "\n",
        "Por su parte, la palabra *car* es polisémica y aparece en cinco sentidos, toso ellos sustantivos.\n",
        "\n",
        "Si guardo el synset en cuestión en una variable (fíjate que me quedo con el primer elemento de la lista que me devuelve el método `wn.synsets`), podemos acceder a distintos métodos:"
      ]
    },
    {
      "cell_type": "code",
      "execution_count": null,
      "metadata": {
        "Collapsed": "false",
        "id": "X-r8n86c4-nt",
        "colab": {
          "base_uri": "https://localhost:8080/"
        },
        "outputId": "d13fffb0-6c0d-4d05-fd95-e1e38aa3c73b"
      },
      "outputs": [
        {
          "output_type": "stream",
          "name": "stdout",
          "text": [
            "['sword', 'blade', 'brand', 'steel']\n",
            "a cutting or thrusting weapon that has a long metal blade and a hilt with a hand guard\n",
            "['cable_car', 'car'] a conveyance for passengers or freight on a cable railway\n",
            "['cable_car', 'car'] a conveyance for passengers or freight on a cable railway\n",
            "['they took a cable car to the top of the mountain']\n"
          ]
        }
      ],
      "source": [
        "sword = wn.synsets(\"sword\")[0]\n",
        "print(sword.lemma_names())  # imprime los lemas del synset => sinónimos\n",
        "print(sword.definition())  # imprime la definición del synset\n",
        "\n",
        "# hacemos lo mismo con car\n",
        "car = wn.synsets(\"car\")\n",
        "cable_car = car[-1]\n",
        "print(cable_car.lemma_names(), cable_car.definition())\n",
        "print(\n",
        "    car[-1].lemma_names(), car[-1].definition()\n",
        ")  # esta línea es equivalente a la anterior. ¿Ves por qué?\n",
        "\n",
        "# imprimo las oraciones de ejemplo\n",
        "print(cable_car.examples())"
      ]
    },
    {
      "cell_type": "code",
      "source": [
        "car = wn.synsets(\"car\")#\"car\" tiene hasta 5 sentidos en inglés, por eso aparece en 5 synsets\n",
        "for numero_de_synset, sentido in enumerate(car):#voy recorriendo los sentidos y los enumero\n",
        "  print(numero_de_synset, sentido, sentido.lemma_names(), sentido.definition())#imprimo el número de synset, su sentido, lemas que lo representan y definición\n",
        "  for meronimo in sentido.part_meronyms():\n",
        "    print(\"merónimos----->\", meronimo.lemma_names())"
      ],
      "metadata": {
        "colab": {
          "base_uri": "https://localhost:8080/"
        },
        "id": "feCJ5RNTv6ys",
        "outputId": "2cddb313-bc4a-4ac0-c74d-c2dfc8615345"
      },
      "execution_count": null,
      "outputs": [
        {
          "output_type": "stream",
          "name": "stdout",
          "text": [
            "0 Synset('car.n.01') ['car', 'auto', 'automobile', 'machine', 'motorcar'] a motor vehicle with four wheels; usually propelled by an internal combustion engine\n",
            "merónimos-----> ['accelerator', 'accelerator_pedal', 'gas_pedal', 'gas', 'throttle', 'gun']\n",
            "merónimos-----> ['air_bag']\n",
            "merónimos-----> ['auto_accessory']\n",
            "merónimos-----> ['automobile_engine']\n",
            "merónimos-----> ['automobile_horn', 'car_horn', 'motor_horn', 'horn', 'hooter']\n",
            "merónimos-----> ['buffer', 'fender']\n",
            "merónimos-----> ['bumper']\n",
            "merónimos-----> ['car_door']\n",
            "merónimos-----> ['car_mirror']\n",
            "merónimos-----> ['car_seat']\n",
            "merónimos-----> ['car_window']\n",
            "merónimos-----> ['fender', 'wing']\n",
            "merónimos-----> ['first_gear', 'first', 'low_gear', 'low']\n",
            "merónimos-----> ['floorboard']\n",
            "merónimos-----> ['gasoline_engine', 'petrol_engine']\n",
            "merónimos-----> ['glove_compartment']\n",
            "merónimos-----> ['grille', 'radiator_grille']\n",
            "merónimos-----> ['high_gear', 'high']\n",
            "merónimos-----> ['hood', 'bonnet', 'cowl', 'cowling']\n",
            "merónimos-----> ['luggage_compartment', 'automobile_trunk', 'trunk']\n",
            "merónimos-----> ['rear_window']\n",
            "merónimos-----> ['reverse', 'reverse_gear']\n",
            "merónimos-----> ['roof']\n",
            "merónimos-----> ['running_board']\n",
            "merónimos-----> ['stabilizer_bar', 'anti-sway_bar']\n",
            "merónimos-----> ['sunroof', 'sunshine-roof']\n",
            "merónimos-----> ['tail_fin', 'tailfin', 'fin']\n",
            "merónimos-----> ['third_gear', 'third']\n",
            "merónimos-----> ['window']\n",
            "1 Synset('car.n.02') ['car', 'railcar', 'railway_car', 'railroad_car'] a wheeled vehicle adapted to the rails of railroad\n",
            "merónimos-----> ['suspension', 'suspension_system']\n",
            "2 Synset('car.n.03') ['car', 'gondola'] the compartment that is suspended from an airship and that carries personnel and the cargo and the power plant\n",
            "3 Synset('car.n.04') ['car', 'elevator_car'] where passengers ride up and down\n",
            "4 Synset('cable_car.n.01') ['cable_car', 'car'] a conveyance for passengers or freight on a cable railway\n"
          ]
        }
      ]
    },
    {
      "cell_type": "code",
      "source": [
        "bank = wn.synsets(\"bank\")#\"bank\" tiene diferentes sentidos en inglés\n",
        "for numero_de_synset, sentido in enumerate(bank):#voy recorriendo los sentidos y los enumero\n",
        "  print(numero_de_synset, sentido, sentido.lemma_names(), sentido.definition())#imprimo el número de synset, su sentido, lemas que lo representan y definición\n",
        "  for hypo in sentido.hyponyms():\n",
        "    print(\"hipónimos----->\", hypo.lemma_names())"
      ],
      "metadata": {
        "colab": {
          "base_uri": "https://localhost:8080/"
        },
        "id": "D0TZHIuA1NB0",
        "outputId": "38d4aacb-6744-42bc-b383-053705ad3a27"
      },
      "execution_count": null,
      "outputs": [
        {
          "output_type": "stream",
          "name": "stdout",
          "text": [
            "0 Synset('bank.n.01') ['bank'] sloping land (especially the slope beside a body of water)\n",
            "hipónimos-----> ['riverbank', 'riverside']\n",
            "hipónimos-----> ['waterside']\n",
            "1 Synset('depository_financial_institution.n.01') ['depository_financial_institution', 'bank', 'banking_concern', 'banking_company'] a financial institution that accepts deposits and channels the money into lending activities\n",
            "hipónimos-----> ['acquirer']\n",
            "hipónimos-----> ['agent_bank']\n",
            "hipónimos-----> ['commercial_bank', 'full_service_bank']\n",
            "hipónimos-----> ['credit_union']\n",
            "hipónimos-----> ['Federal_Reserve_Bank', 'reserve_bank']\n",
            "hipónimos-----> ['Home_Loan_Bank']\n",
            "hipónimos-----> ['lead_bank', 'agent_bank']\n",
            "hipónimos-----> ['member_bank']\n",
            "hipónimos-----> ['merchant_bank', 'acquirer']\n",
            "hipónimos-----> ['state_bank']\n",
            "hipónimos-----> ['thrift_institution']\n",
            "2 Synset('bank.n.03') ['bank'] a long ridge or pile\n",
            "hipónimos-----> ['bluff']\n",
            "hipónimos-----> ['sandbank']\n",
            "3 Synset('bank.n.04') ['bank'] an arrangement of similar objects in a row or in tiers\n",
            "4 Synset('bank.n.05') ['bank'] a supply or stock held in reserve for future use (especially in emergencies)\n",
            "hipónimos-----> ['blood_bank']\n",
            "hipónimos-----> ['eye_bank']\n",
            "hipónimos-----> ['food_bank']\n",
            "hipónimos-----> ['soil_bank']\n",
            "5 Synset('bank.n.06') ['bank'] the funds held by a gambling house or the dealer in some gambling games\n",
            "6 Synset('bank.n.07') ['bank', 'cant', 'camber'] a slope in the turn of a road or track; the outside is higher than the inside in order to reduce the effects of centrifugal force\n",
            "7 Synset('savings_bank.n.02') ['savings_bank', 'coin_bank', 'money_box', 'bank'] a container (usually with a slot in the top) for keeping money at home\n",
            "hipónimos-----> ['piggy_bank', 'penny_bank']\n",
            "8 Synset('bank.n.09') ['bank', 'bank_building'] a building in which the business of banking transacted\n",
            "9 Synset('bank.n.10') ['bank'] a flight maneuver; aircraft tips laterally about its longitudinal axis (especially in turning)\n",
            "hipónimos-----> ['vertical_bank']\n",
            "10 Synset('bank.v.01') ['bank'] tip laterally\n",
            "11 Synset('bank.v.02') ['bank'] enclose with a bank\n",
            "12 Synset('bank.v.03') ['bank'] do business with a bank or keep an account at a bank\n",
            "13 Synset('bank.v.04') ['bank'] act as the banker in a game or in gambling\n",
            "14 Synset('bank.v.05') ['bank'] be in the banking business\n",
            "15 Synset('deposit.v.02') ['deposit', 'bank'] put into a bank account\n",
            "hipónimos-----> ['redeposit']\n",
            "16 Synset('bank.v.07') ['bank'] cover with ashes so to control the rate of burning\n",
            "17 Synset('trust.v.01') ['trust', 'swear', 'rely', 'bank'] have confidence or faith in\n",
            "hipónimos-----> ['count', 'bet', 'depend', 'look', 'calculate', 'reckon']\n",
            "hipónimos-----> ['credit']\n",
            "hipónimos-----> ['lean']\n"
          ]
        }
      ]
    },
    {
      "cell_type": "markdown",
      "source": [],
      "metadata": {
        "id": "CXVTS_8k1L1N"
      }
    },
    {
      "cell_type": "code",
      "source": [
        "print(wn.synsets(\"car\"))"
      ],
      "metadata": {
        "colab": {
          "base_uri": "https://localhost:8080/"
        },
        "id": "NQFDV8GLspnw",
        "outputId": "a4cb5ff9-475a-42c6-eb4c-f90e3db2d875"
      },
      "execution_count": null,
      "outputs": [
        {
          "output_type": "stream",
          "name": "stdout",
          "text": [
            "[Synset('car.n.01'), Synset('car.n.02'), Synset('car.n.03'), Synset('car.n.04'), Synset('cable_car.n.01')]\n"
          ]
        }
      ]
    },
    {
      "cell_type": "code",
      "execution_count": null,
      "metadata": {
        "Collapsed": "false",
        "id": "x-1VINc34-nu"
      },
      "outputs": [],
      "source": [
        "sword."
      ]
    },
    {
      "cell_type": "markdown",
      "metadata": {
        "Collapsed": "false",
        "id": "mPwofOpk4-nv"
      },
      "source": [
        "Si escribes `sword.` y pulsas el tabulador podrás visualizar todos los métodos accesibles desde un objeto synset. Son muchos: si tienes interés en alguno que no se menciona en este resumen, pregúntame o consulta el libro de NLTK.\n",
        "\n",
        "Entre las cosas que sí nos interesan está el poder acceder a relaciones como hiponimia, meronimia, etc. Por ejemplo, para acceder a todos los hipónimos de *sword* con el sentido de *espada*, es decir, a todos los **tipos de** *espada* y a sus definiciones."
      ]
    },
    {
      "cell_type": "code",
      "execution_count": null,
      "metadata": {
        "Collapsed": "false",
        "id": "8My6hnWW4-nw",
        "colab": {
          "base_uri": "https://localhost:8080/"
        },
        "outputId": "0211aa73-3419-448a-d3e2-8fa2ffc8b58e"
      },
      "outputs": [
        {
          "output_type": "stream",
          "name": "stdout",
          "text": [
            "[Synset('backsword.n.02'), Synset('broadsword.n.01'), Synset('cavalry_sword.n.01'), Synset('cutlas.n.01'), Synset('falchion.n.01'), Synset('fencing_sword.n.01'), Synset('rapier.n.01')]\n",
            "['backsword']\n",
            "a sword with only one cutting edge\n",
            "['broadsword']\n",
            "a sword with a broad blade and (usually) two cutting edges; used to cut rather than stab\n",
            "['cavalry_sword', 'saber', 'sabre']\n",
            "a stout sword with a curved blade and thick back\n",
            "['cutlas', 'cutlass']\n",
            "a short heavy curved sword with one edge; formerly used by sailors\n",
            "['falchion']\n",
            "a short broad slightly convex medieval sword with a sharp point\n",
            "['fencing_sword']\n",
            "a sword used in the sport of fencing\n",
            "['rapier', 'tuck']\n",
            "a straight sword with a narrow blade and two edges\n"
          ]
        }
      ],
      "source": [
        "print(sword.hyponyms())\n",
        "\n",
        "for element in sword.hyponyms():\n",
        "    print(element.lemma_names())\n",
        "    print(element.definition())"
      ]
    },
    {
      "cell_type": "markdown",
      "metadata": {
        "Collapsed": "false",
        "id": "z4m00RXm4-n0"
      },
      "source": [
        "En lugar de bajar hasta los elementos más específicos, podemos navegar en la jerarquía de sentidos hasta los synsets más generales. Por ejemplo, podemos acceder a los hiperónimos inmediatos de un synset a través del método `.hypernyms()`:"
      ]
    },
    {
      "cell_type": "code",
      "execution_count": null,
      "metadata": {
        "Collapsed": "false",
        "id": "Mc5usA3Q4-n1"
      },
      "outputs": [],
      "source": [
        "for element in sword.hypernyms():\n",
        "    print(element.lemma_names())\n",
        "    print(element.definition())"
      ]
    },
    {
      "cell_type": "markdown",
      "metadata": {
        "Collapsed": "false",
        "id": "Fw4IHiKA4-n_"
      },
      "source": [
        "Fíjate que con este método sólo subimos un nivel hacia el synset más general. En este caso, comprobamos que *sword* es un tipo de *weapon* o *arm*. Si, por el contrario, lo que nos interesa es acceder a todos los hiperónimos de *sword*, navegando hasta el elemento raíz de la jerarquía de WordNet (que siempre es *entity*), podemos utilizar el método `.hypernym_paths()`:"
      ]
    },
    {
      "cell_type": "code",
      "execution_count": null,
      "metadata": {
        "Collapsed": "false",
        "id": "03mpknvr4-oA"
      },
      "outputs": [],
      "source": [
        "for path in sword.hypernym_paths():\n",
        "    for element in path:\n",
        "        print(element.lemma_names())\n",
        "        print(element.definition())"
      ]
    },
    {
      "cell_type": "markdown",
      "metadata": {
        "Collapsed": "false",
        "id": "43Ib9Kb_4-oB"
      },
      "source": [
        "Fíjate que `.hypernym_paths()` me devuelve una lista de caminos posibles desde el synset en cuestión hasta el elemento *entity*. Por eso itero sobre los elementos `path` que me devuelve `.hypernym_paths()`. En el ejemplo de *sword*, da la casualidad de que solo hay un camino posible. Cada `path` es una lista de synsets, e itero sobre ellos. Por eso utilizo un bucle dentro de otro.\n",
        "\n",
        "Para acceder a los merónimos, es decir, a las partes o elementos constitutivos de *sword*, podemos utilizar el método `.part_meronyms()`, como se muestra a continuación."
      ]
    },
    {
      "cell_type": "code",
      "execution_count": null,
      "metadata": {
        "Collapsed": "false",
        "id": "rEcCxa5D4-oC",
        "colab": {
          "base_uri": "https://localhost:8080/"
        },
        "outputId": "55d79f66-5503-4eeb-a705-fbeced33285f"
      },
      "outputs": [
        {
          "output_type": "stream",
          "name": "stdout",
          "text": [
            "['blade']\n",
            "the flat part of a tool or weapon that (usually) has a cutting edge\n",
            "['foible']\n",
            "the weaker part of a sword's blade from the forte to the tip\n",
            "['forte']\n",
            "the stronger part of a sword blade between the hilt and the foible\n",
            "['haft', 'helve']\n",
            "the handle of a weapon or tool\n",
            "['hilt']\n",
            "the handle of a sword or dagger\n",
            "['point', 'tip', 'peak']\n",
            "a V shape\n"
          ]
        }
      ],
      "source": [
        "for element in sword.part_meronyms():\n",
        "    print(element.lemma_names())\n",
        "    print(element.definition())"
      ]
    },
    {
      "cell_type": "markdown",
      "metadata": {
        "Collapsed": "false",
        "id": "LphiPJQy4-oD"
      },
      "source": [
        "De manera similar, podemos acceder a los holónimos de un synset, es decir, a los elementos de los que *espada* forma parte, a través del método `.part_holonyms()`. El synset que estamos utilizando no tiene definidos holónimos, así que el ejemplo devuelve una lista vacía."
      ]
    },
    {
      "cell_type": "code",
      "execution_count": null,
      "metadata": {
        "Collapsed": "false",
        "id": "WggHpItu4-oF"
      },
      "outputs": [],
      "source": [
        "print(sword.part_holonyms())"
      ]
    },
    {
      "cell_type": "markdown",
      "metadata": {
        "Collapsed": "false",
        "id": "CmBE8p1R4-oF"
      },
      "source": [
        "Busquemos ahora algún ejemplo que tenga otros tipos de merónimos."
      ]
    },
    {
      "cell_type": "code",
      "execution_count": null,
      "metadata": {
        "Collapsed": "false",
        "id": "RbgMCIBp4-oG",
        "colab": {
          "base_uri": "https://localhost:8080/"
        },
        "outputId": "d4671320-2f7f-4522-bd2f-bd0fdde4c7ff"
      },
      "outputs": [
        {
          "output_type": "stream",
          "name": "stdout",
          "text": [
            "['water', 'H2O']\n",
            "['body_of_water', 'water']\n",
            "['water']\n",
            "['water_system', 'water_supply', 'water']\n",
            "['urine', 'piss', 'pee', 'piddle', 'weewee', 'water']\n",
            "['water']\n",
            "['water', 'irrigate']\n",
            "['water']\n",
            "['water']\n",
            "['water']\n",
            "[Synset('hydrogen.n.01'), Synset('oxygen.n.01')]\n",
            "['air'] a mixture of gases (especially oxygen) required for breathing; the stuff that the wind consists of\n",
            "['air'] the region above the ground\n",
            "['air', 'aura', 'atmosphere'] a distinctive but intangible quality surrounding a person or thing\n",
            "['breeze', 'zephyr', 'gentle_wind', 'air'] a slight wind (usually refreshing)\n",
            "['atmosphere', 'air'] the mass of air surrounding the Earth\n",
            "['air'] once thought to be one of four elements composing the universe (Empedocles)\n",
            "['tune', 'melody', 'air', 'strain', 'melodic_line', 'line', 'melodic_phrase'] a succession of notes forming a distinctive sequence\n",
            "['air', 'airwave'] medium for radio and television broadcasting\n",
            "['air_travel', 'aviation', 'air'] travel via aircraft\n",
            "['air_out', 'air', 'aerate'] expose to fresh air\n",
            "['air'] be broadcast\n",
            "['air', 'send', 'broadcast', 'beam', 'transmit'] broadcast over the airwaves, as in radio or television\n",
            "['publicize', 'publicise', 'air', 'bare'] make public\n",
            "['air'] expose to warm or heated air, so as to dry\n",
            "['vent', 'ventilate', 'air_out', 'air'] expose to cool or cold air so as to cool or freshen\n",
            "[Synset('argon.n.01'), Synset('krypton.n.01'), Synset('neon.n.01'), Synset('nitrogen.n.01'), Synset('oxygen.n.01'), Synset('xenon.n.01')]\n"
          ]
        }
      ],
      "source": [
        "# en cuántos synsets aparece la palabra water?\n",
        "water = wn.synsets(\"water\")\n",
        "for synset in water:\n",
        "    print(synset.lemma_names())\n",
        "\n",
        "# me quedo con el primero\n",
        "agua = water[0]\n",
        "# que tiene unos cuantos merónimos de sustancia\n",
        "print(agua.substance_meronyms())\n",
        "\n",
        "# ídem para air\n",
        "air = wn.synsets(\"air\")\n",
        "for synset in air:\n",
        "    print(synset.lemma_names(), synset.definition())\n",
        "\n",
        "aire = air[0]\n",
        "print(aire.substance_meronyms())"
      ]
    },
    {
      "cell_type": "markdown",
      "metadata": {
        "Collapsed": "false",
        "id": "J46E0hNc4-oH"
      },
      "source": [
        "Hay varios métodos para acceder a distintos tipos de merónimos y holónimos, aunque no siempre están definidas estas relaciones. Cuando no están definidas, los métodos no dan error, simplemente devuelven listas vacías.\n",
        "\n",
        "Los nombres de estos métodos tratan de ser autoexplicativos: por un lado, tenemos `.part_holonyms()`, `.member_holonyms()`, `.substance_holonyms()`, y por otro, `.part_meronyms()`, `.member_meronyms()`, `.substance_meronyms()`."
      ]
    },
    {
      "cell_type": "markdown",
      "metadata": {
        "Collapsed": "false",
        "id": "62VY8ykU4-oI"
      },
      "source": [
        "### Ejercicio 5\n",
        "\n",
        "- Busca los sentidos en los que aparece la palabra *bike*.\n",
        "- Identifica el que hace referencia a *bicicleta* como *vehículo de dos ruedas a pedales*\n",
        "- Imprime los merónimos, esto es, las partes que conforman una bicicleta"
      ]
    },
    {
      "cell_type": "code",
      "execution_count": null,
      "metadata": {
        "Collapsed": "false",
        "id": "BYZG0YvZ4-oJ"
      },
      "outputs": [],
      "source": [
        "# escribe tu código aquí"
      ]
    },
    {
      "cell_type": "code",
      "source": [
        "import nltk\n",
        "nltk.download('wordnet')\n",
        "nltk.download('omw-1.4')"
      ],
      "metadata": {
        "colab": {
          "base_uri": "https://localhost:8080/"
        },
        "id": "wrFpJnKZfgs7",
        "outputId": "c5fee451-a782-446e-d51d-07d886c51e76"
      },
      "execution_count": null,
      "outputs": [
        {
          "output_type": "stream",
          "name": "stderr",
          "text": [
            "[nltk_data] Downloading package wordnet to /root/nltk_data...\n",
            "[nltk_data]   Package wordnet is already up-to-date!\n",
            "[nltk_data] Downloading package omw-1.4 to /root/nltk_data...\n"
          ]
        },
        {
          "output_type": "execute_result",
          "data": {
            "text/plain": [
              "True"
            ]
          },
          "metadata": {},
          "execution_count": 6
        }
      ]
    },
    {
      "cell_type": "code",
      "source": [
        "from nltk.corpus import wordnet as wn\n",
        "wn.synsets('bank')[0].lemma_names('spa')"
      ],
      "metadata": {
        "colab": {
          "base_uri": "https://localhost:8080/"
        },
        "id": "7CrA23kffwze",
        "outputId": "9ad66f3e-45dd-43d3-9488-641c8e968bd2"
      },
      "execution_count": null,
      "outputs": [
        {
          "output_type": "execute_result",
          "data": {
            "text/plain": [
              "['margen', 'orilla', 'vera']"
            ]
          },
          "metadata": {},
          "execution_count": 11
        }
      ]
    },
    {
      "cell_type": "code",
      "source": [
        "wn.synsets('car')[4].lemma_names()"
      ],
      "metadata": {
        "colab": {
          "base_uri": "https://localhost:8080/"
        },
        "id": "Yh-jXP7QshD0",
        "outputId": "bca3f330-1b28-41f4-931d-3edcb324ec31"
      },
      "execution_count": null,
      "outputs": [
        {
          "output_type": "execute_result",
          "data": {
            "text/plain": [
              "['cable_car', 'car']"
            ]
          },
          "metadata": {},
          "execution_count": 20
        }
      ]
    },
    {
      "cell_type": "code",
      "source": [
        "from nltk.corpus import wordnet\n",
        "syns = wordnet.synsets(\"gato\", lang=\"spa\")\n",
        "print(syns[0].definition())"
      ],
      "metadata": {
        "colab": {
          "base_uri": "https://localhost:8080/"
        },
        "id": "EJUVjEi3gfVB",
        "outputId": "10e306a0-7c71-483d-f50b-d435224fcd5c"
      },
      "execution_count": null,
      "outputs": [
        {
          "output_type": "stream",
          "name": "stdout",
          "text": [
            "feline mammal usually having thick soft fur and no ability to roar: domestic cats; wildcats\n"
          ]
        }
      ]
    },
    {
      "cell_type": "code",
      "source": [
        "#¿Cuál es el output de este código?\n",
        "from nltk.corpus import wordnet\n",
        "syns = wordnet.synsets(\"happy\")\n",
        "print(syns[0].lemmas()[0].antonyms())"
      ],
      "metadata": {
        "colab": {
          "base_uri": "https://localhost:8080/"
        },
        "id": "F-NmX25NjU2C",
        "outputId": "cdd17499-8b6f-46b5-a6be-db42abe370c7"
      },
      "execution_count": null,
      "outputs": [
        {
          "output_type": "stream",
          "name": "stdout",
          "text": [
            "[Lemma('unhappy.a.01.unhappy')]\n"
          ]
        }
      ]
    }
  ],
  "metadata": {
    "kernelspec": {
      "display_name": "Python 3",
      "language": "python",
      "name": "python3"
    },
    "language_info": {
      "codemirror_mode": {
        "name": "ipython",
        "version": 3
      },
      "file_extension": ".py",
      "mimetype": "text/x-python",
      "name": "python",
      "nbconvert_exporter": "python",
      "pygments_lexer": "ipython3",
      "version": "3.7.6"
    },
    "colab": {
      "provenance": [],
      "include_colab_link": true
    }
  },
  "nbformat": 4,
  "nbformat_minor": 0
}