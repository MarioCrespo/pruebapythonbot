{
  "cells": [
    {
      "cell_type": "markdown",
      "metadata": {
        "id": "view-in-github",
        "colab_type": "text"
      },
      "source": [
        "<a href=\"https://colab.research.google.com/github/MarioCrespo/pruebapythonbot/blob/master/NLTK_1.ipynb\" target=\"_parent\"><img src=\"https://colab.research.google.com/assets/colab-badge.svg\" alt=\"Open In Colab\"/></a>"
      ]
    },
    {
      "cell_type": "code",
      "execution_count": null,
      "metadata": {
        "id": "ZvPVZxH4x3xj"
      },
      "outputs": [],
      "source": [
        "#en python hay multitud de paquetes para hacer muchísimas cosas. La manera de traerlos a nuestro python es con el comando import\n",
        "import nltk #con este comando le estamos diciendo que cargue NLTK para poder usarlo"
      ]
    },
    {
      "cell_type": "code",
      "execution_count": null,
      "metadata": {
        "id": "V-Wis9xBEvEF"
      },
      "outputs": [],
      "source": [
        "nltk.download()#te sale los recursos que te puedes descargar para poder usarlos. En colab no funciona demasiado bien, abajo tenéis cómo bajarlo. "
      ]
    },
    {
      "cell_type": "markdown",
      "source": [
        "Uno de los recursos más útiles de NLTK es el conjunto de libros electrónicos incluidos en la biblioteca, que se pueden acceder a través del módulo \"nltk.book\". Estos libros electrónicos incluyen ejemplos de análisis de lenguaje natural y están diseñados para ayudar a los usuarios a comprender los conceptos fundamentales de NLTK.\n",
        "\n",
        "En total, hay nueve libros electrónicos incluidos en la biblioteca NLTK, que cubren temas como el análisis de texto, la clasificación de documentos, la extracción de información y más. Estos libros electrónicos están escritos en Python y se pueden utilizar como recursos de aprendizaje para los estudiantes de procesamiento de lenguaje natural y para los profesionales que buscan utilizar NLTK para sus proyectos."
      ],
      "metadata": {
        "id": "FClhZW9P7iD2"
      }
    },
    {
      "cell_type": "code",
      "execution_count": null,
      "metadata": {
        "id": "A-2XkFWOHUBP",
        "colab": {
          "base_uri": "https://localhost:8080/"
        },
        "outputId": "e4efa6cb-644e-4474-c5ca-e1d2473443da"
      },
      "outputs": [
        {
          "output_type": "stream",
          "name": "stderr",
          "text": [
            "[nltk_data] Downloading collection 'book'\n",
            "[nltk_data]    | \n",
            "[nltk_data]    | Downloading package abc to /root/nltk_data...\n",
            "[nltk_data]    |   Unzipping corpora/abc.zip.\n",
            "[nltk_data]    | Downloading package brown to /root/nltk_data...\n",
            "[nltk_data]    |   Unzipping corpora/brown.zip.\n",
            "[nltk_data]    | Downloading package chat80 to /root/nltk_data...\n",
            "[nltk_data]    |   Unzipping corpora/chat80.zip.\n",
            "[nltk_data]    | Downloading package cmudict to /root/nltk_data...\n",
            "[nltk_data]    |   Unzipping corpora/cmudict.zip.\n",
            "[nltk_data]    | Downloading package conll2000 to /root/nltk_data...\n",
            "[nltk_data]    |   Unzipping corpora/conll2000.zip.\n",
            "[nltk_data]    | Downloading package conll2002 to /root/nltk_data...\n",
            "[nltk_data]    |   Unzipping corpora/conll2002.zip.\n",
            "[nltk_data]    | Downloading package dependency_treebank to\n",
            "[nltk_data]    |     /root/nltk_data...\n",
            "[nltk_data]    |   Unzipping corpora/dependency_treebank.zip.\n",
            "[nltk_data]    | Downloading package genesis to /root/nltk_data...\n",
            "[nltk_data]    |   Unzipping corpora/genesis.zip.\n",
            "[nltk_data]    | Downloading package gutenberg to /root/nltk_data...\n",
            "[nltk_data]    |   Unzipping corpora/gutenberg.zip.\n",
            "[nltk_data]    | Downloading package ieer to /root/nltk_data...\n",
            "[nltk_data]    |   Unzipping corpora/ieer.zip.\n",
            "[nltk_data]    | Downloading package inaugural to /root/nltk_data...\n",
            "[nltk_data]    |   Unzipping corpora/inaugural.zip.\n",
            "[nltk_data]    | Downloading package movie_reviews to\n",
            "[nltk_data]    |     /root/nltk_data...\n",
            "[nltk_data]    |   Unzipping corpora/movie_reviews.zip.\n",
            "[nltk_data]    | Downloading package nps_chat to /root/nltk_data...\n",
            "[nltk_data]    |   Unzipping corpora/nps_chat.zip.\n",
            "[nltk_data]    | Downloading package names to /root/nltk_data...\n",
            "[nltk_data]    |   Unzipping corpora/names.zip.\n",
            "[nltk_data]    | Downloading package ppattach to /root/nltk_data...\n",
            "[nltk_data]    |   Unzipping corpora/ppattach.zip.\n",
            "[nltk_data]    | Downloading package reuters to /root/nltk_data...\n",
            "[nltk_data]    | Downloading package senseval to /root/nltk_data...\n",
            "[nltk_data]    |   Unzipping corpora/senseval.zip.\n",
            "[nltk_data]    | Downloading package state_union to /root/nltk_data...\n",
            "[nltk_data]    |   Unzipping corpora/state_union.zip.\n",
            "[nltk_data]    | Downloading package stopwords to /root/nltk_data...\n",
            "[nltk_data]    |   Unzipping corpora/stopwords.zip.\n",
            "[nltk_data]    | Downloading package swadesh to /root/nltk_data...\n",
            "[nltk_data]    |   Unzipping corpora/swadesh.zip.\n",
            "[nltk_data]    | Downloading package timit to /root/nltk_data...\n",
            "[nltk_data]    |   Unzipping corpora/timit.zip.\n",
            "[nltk_data]    | Downloading package treebank to /root/nltk_data...\n",
            "[nltk_data]    |   Unzipping corpora/treebank.zip.\n",
            "[nltk_data]    | Downloading package toolbox to /root/nltk_data...\n",
            "[nltk_data]    |   Unzipping corpora/toolbox.zip.\n",
            "[nltk_data]    | Downloading package udhr to /root/nltk_data...\n",
            "[nltk_data]    |   Unzipping corpora/udhr.zip.\n",
            "[nltk_data]    | Downloading package udhr2 to /root/nltk_data...\n",
            "[nltk_data]    |   Unzipping corpora/udhr2.zip.\n",
            "[nltk_data]    | Downloading package unicode_samples to\n",
            "[nltk_data]    |     /root/nltk_data...\n",
            "[nltk_data]    |   Unzipping corpora/unicode_samples.zip.\n",
            "[nltk_data]    | Downloading package webtext to /root/nltk_data...\n",
            "[nltk_data]    |   Unzipping corpora/webtext.zip.\n",
            "[nltk_data]    | Downloading package wordnet to /root/nltk_data...\n",
            "[nltk_data]    | Downloading package wordnet_ic to /root/nltk_data...\n",
            "[nltk_data]    |   Unzipping corpora/wordnet_ic.zip.\n",
            "[nltk_data]    | Downloading package words to /root/nltk_data...\n",
            "[nltk_data]    |   Unzipping corpora/words.zip.\n",
            "[nltk_data]    | Downloading package maxent_treebank_pos_tagger to\n",
            "[nltk_data]    |     /root/nltk_data...\n",
            "[nltk_data]    |   Unzipping taggers/maxent_treebank_pos_tagger.zip.\n",
            "[nltk_data]    | Downloading package maxent_ne_chunker to\n",
            "[nltk_data]    |     /root/nltk_data...\n",
            "[nltk_data]    |   Unzipping chunkers/maxent_ne_chunker.zip.\n",
            "[nltk_data]    | Downloading package universal_tagset to\n",
            "[nltk_data]    |     /root/nltk_data...\n",
            "[nltk_data]    |   Unzipping taggers/universal_tagset.zip.\n",
            "[nltk_data]    | Downloading package punkt to /root/nltk_data...\n",
            "[nltk_data]    |   Unzipping tokenizers/punkt.zip.\n",
            "[nltk_data]    | Downloading package book_grammars to\n",
            "[nltk_data]    |     /root/nltk_data...\n",
            "[nltk_data]    |   Unzipping grammars/book_grammars.zip.\n",
            "[nltk_data]    | Downloading package city_database to\n",
            "[nltk_data]    |     /root/nltk_data...\n",
            "[nltk_data]    |   Unzipping corpora/city_database.zip.\n",
            "[nltk_data]    | Downloading package tagsets to /root/nltk_data...\n",
            "[nltk_data]    |   Unzipping help/tagsets.zip.\n",
            "[nltk_data]    | Downloading package panlex_swadesh to\n",
            "[nltk_data]    |     /root/nltk_data...\n",
            "[nltk_data]    | Downloading package averaged_perceptron_tagger to\n",
            "[nltk_data]    |     /root/nltk_data...\n",
            "[nltk_data]    |   Unzipping taggers/averaged_perceptron_tagger.zip.\n",
            "[nltk_data]    | \n",
            "[nltk_data]  Done downloading collection book\n"
          ]
        },
        {
          "output_type": "stream",
          "name": "stdout",
          "text": [
            "*** Introductory Examples for the NLTK Book ***\n",
            "Loading text1, ..., text9 and sent1, ..., sent9\n",
            "Type the name of the text or sentence to view it.\n",
            "Type: 'texts()' or 'sents()' to list the materials.\n",
            "text1: Moby Dick by Herman Melville 1851\n",
            "text2: Sense and Sensibility by Jane Austen 1811\n",
            "text3: The Book of Genesis\n",
            "text4: Inaugural Address Corpus\n",
            "text5: Chat Corpus\n",
            "text6: Monty Python and the Holy Grail\n",
            "text7: Wall Street Journal\n",
            "text8: Personals Corpus\n",
            "text9: The Man Who Was Thursday by G . K . Chesterton 1908\n"
          ]
        }
      ],
      "source": [
        "nltk.download('book')# Esta sería la manera si quieremos usar solo los libros que viene por defecto en el nltk\n",
        "#Si queremos descargarlo todo sería nltk.download('all')#Bajamos todo para usarlo\n",
        "#una vez descargados se carga:\n",
        "from nltk.book import * #Python funciona así, se descarga y luego se carga. No todo lo que te descargas lo quieres usar en ese momento. Esa es la lógica.\n",
        "\n"
      ]
    },
    {
      "cell_type": "code",
      "execution_count": null,
      "metadata": {
        "id": "1_-hrr1xJRBh",
        "colab": {
          "base_uri": "https://localhost:8080/"
        },
        "outputId": "e52df34e-6c45-407d-db3e-afd4e48af7f7"
      },
      "outputs": [
        {
          "output_type": "execute_result",
          "data": {
            "text/plain": [
              "<Text: Moby Dick by Herman Melville 1851>"
            ]
          },
          "metadata": {},
          "execution_count": 3
        }
      ],
      "source": [
        "text1 #podemos ver a qué corresponde el texto1"
      ]
    },
    {
      "cell_type": "code",
      "source": [
        "type(text1)#podemos ver el tipo de dato que es \"text1\". Es lo que se conocer como un \"objeto\""
      ],
      "metadata": {
        "id": "DXvGkQGe7thK"
      },
      "execution_count": null,
      "outputs": []
    },
    {
      "cell_type": "code",
      "execution_count": null,
      "metadata": {
        "id": "XVylNmMEJZee"
      },
      "outputs": [],
      "source": [
        "text2 #podemos ver a qué corresponde el texto2"
      ]
    },
    {
      "cell_type": "code",
      "execution_count": null,
      "metadata": {
        "id": "7-ykMLYLJkii",
        "colab": {
          "base_uri": "https://localhost:8080/"
        },
        "outputId": "3dd77510-7f0f-446e-c8b1-a3380a63c102"
      },
      "outputs": [
        {
          "output_type": "stream",
          "name": "stdout",
          "text": [
            "Displaying 11 of 11 matches:\n",
            "ong the former , one was of a most monstrous size . ... This came towards us , \n",
            "ON OF THE PSALMS . \" Touching that monstrous bulk of the whale or ork we have r\n",
            "ll over with a heathenish array of monstrous clubs and spears . Some were thick\n",
            "d as you gazed , and wondered what monstrous cannibal and savage could ever hav\n",
            "that has survived the flood ; most monstrous and most mountainous ! That Himmal\n",
            "they might scout at Moby Dick as a monstrous fable , or still worse and more de\n",
            "th of Radney .'\" CHAPTER 55 Of the Monstrous Pictures of Whales . I shall ere l\n",
            "ing Scenes . In connexion with the monstrous pictures of whales , I am strongly\n",
            "ere to enter upon those still more monstrous stories of them which are to be fo\n",
            "ght have been rummaged out of this monstrous cabinet there is no telling . But \n",
            "of Whale - Bones ; for Whales of a monstrous size are oftentimes cast up dead u\n"
          ]
        }
      ],
      "source": [
        "text1.concordance(\"monstrous\")#aquí le pedimos que busque la palabra \"monstrous\" en el text1\n",
        "#La primera vez que se utiliza una \"concordancia\" en un texto concreto, el sistema puede tardar unos segndos en construir un índice."
      ]
    },
    {
      "cell_type": "code",
      "execution_count": null,
      "metadata": {
        "id": "BEj_J3hWmv2z",
        "colab": {
          "base_uri": "https://localhost:8080/"
        },
        "outputId": "ea77522a-70e2-48ad-c008-a394813dfc2b"
      },
      "outputs": [
        {
          "output_type": "stream",
          "name": "stdout",
          "text": [
            "true contemptible christian abundant few part mean careful puzzled\n",
            "mystifying passing curious loving wise doleful gamesome singular\n",
            "delightfully perilous fearless\n"
          ]
        }
      ],
      "source": [
        "#Una concordancia nos permite ver las palabras en su contexto. Por ejemplo, hemos visto que monstrous aparece en contextos como \n",
        "#the ___ pictures and a ___ size . ¿Qué otras palabras aparecen en contextos similares? Podemos averiguarlo así:\n",
        "text1.similar(\"monstrous\")#le estamos pidiendo otras palabras que aparecen en contextos en los que aparece 'monstrous'. No tiene por qué aparecer 'monstrous'\n",
        "#en esos contextos"
      ]
    },
    {
      "cell_type": "code",
      "execution_count": null,
      "metadata": {
        "id": "npgO63ESo3Ts"
      },
      "outputs": [],
      "source": [
        "#Podemos comparar los resultados con los que aparecen en el text2 'Sense and Sensibility'\n",
        "text2.similar(\"red\")\n",
        "#¿En qué difieren los resultadps respecto al text1?"
      ]
    },
    {
      "cell_type": "code",
      "source": [
        "text1.index('Dick')#le podemos preguntar por el momento posición en la que aparece una palabr apor primera vez"
      ],
      "metadata": {
        "id": "7CFdzSN3-cw5"
      },
      "execution_count": null,
      "outputs": []
    },
    {
      "cell_type": "code",
      "source": [
        " text1[16715:16735]#al igual que en las listas le podemos decir que nos devuelva partes en concreto"
      ],
      "metadata": {
        "id": "9u9iVMcD_Loi"
      },
      "execution_count": null,
      "outputs": []
    },
    {
      "cell_type": "code",
      "source": [
        "for palabra in text1:#podemos incluso iterar por el libro\n",
        "  print(palabra)"
      ],
      "metadata": {
        "id": "qSb4aooP_TC2"
      },
      "execution_count": null,
      "outputs": []
    },
    {
      "cell_type": "code",
      "execution_count": null,
      "metadata": {
        "id": "A-ZJbWOspWsb"
      },
      "outputs": [],
      "source": [
        "#El término common_contexts nos permite examinar los contextos que comparten dos o más palabras, como 'monstrous' y 'very'. \n",
        "#Tenemos que encerrar estas palabras entre corchetes y paréntesis, y separarlas con una coma.\n",
        "text2.common_contexts([\"monstrous\", \"very\"])#estamos viendo en qué contextos similares en los que las dos palabra aparecen\n",
        "#solo que lo comparten\n",
        "text2.common_contexts([\"life\", \"live\"])"
      ]
    },
    {
      "cell_type": "code",
      "execution_count": null,
      "metadata": {
        "id": "PLY4fV5-tHyz"
      },
      "outputs": [],
      "source": [
        "#Una cosa es detectar automáticamente que una palabra en particular aparece en un texto y mostrar algunas palabras que aparecen en el mismo contexto. \n",
        "#Sin embargo, también podemos determinar la ubicación de una palabra en el texto: cuántas palabras desde el principio aparece. \n",
        "#Esta información posicional se puede mostrar mediante un gráfico de dispersión. \n",
        "#Cada franja representa una instancia de una palabra y cada fila representa el texto completo. \n",
        "text1.dispersion_plot([\"Dick\", \"democracy\", \"freedom\", \"duties\", \"America\"])"
      ]
    },
    {
      "cell_type": "code",
      "execution_count": null,
      "metadata": {
        "id": "HTvY2qR93AzZ"
      },
      "outputs": [],
      "source": [
        "#El hecho más obvio sobre los textos que surge de los ejemplos anteriores es que difieren en el vocabulario que utilizan. \n",
        "#Vamos a averiguar la longitud de un texto de principio a fin, en cuanto a las palabras y signos de puntuación que aparecen. \n",
        "len(text3)#la función len() nos dice el tamaño en palabras del texto"
      ]
    },
    {
      "cell_type": "code",
      "execution_count": null,
      "metadata": {
        "id": "Cwuh-ycs3aUp"
      },
      "outputs": [],
      "source": [
        "#Muchas de las palabras anteriores estarán duplicadas. Por ejemplo, 'for', 'of', 'be'... son palabras muy recurrentes.\n",
        "#Si queremos saber el vocabulario no repetido de un texto, escribimos:\n",
        "set(text3)#nos da la lista de tokens que contiene el texto . Realmente set() crea un conjunto, un tipo de dato especial de python parecido a diccinarios y listas"
      ]
    },
    {
      "cell_type": "code",
      "source": [
        "list(text3)#también lo podíamos pasar a lista. La diferencia de set() con list() es que list lo deja todo, y set() lo simplifica a todo los que no esté repetido. Se ve mejor en los siguientes ejemplos"
      ],
      "metadata": {
        "id": "ETkw-5yv8a8P"
      },
      "execution_count": null,
      "outputs": []
    },
    {
      "cell_type": "code",
      "execution_count": null,
      "metadata": {
        "id": "dPlV-rHj4n4_"
      },
      "outputs": [],
      "source": [
        "#si queremos la lista anterior ordenada, le añadimos la función sorted()\n",
        "sorted(set(text3))"
      ]
    },
    {
      "cell_type": "code",
      "source": [
        "sorted(list(text3))#igualmente lo podemos hacer con list, pero con list "
      ],
      "metadata": {
        "id": "xKs7wK6V81WO"
      },
      "execution_count": null,
      "outputs": []
    },
    {
      "cell_type": "code",
      "execution_count": null,
      "metadata": {
        "id": "8JDHGMFm4y_w"
      },
      "outputs": [],
      "source": [
        "#si queremos saber cuántos elementos diferentes tiene esta lista, volvemos a recurrir a len()\n",
        "len(set(text3))"
      ]
    },
    {
      "cell_type": "code",
      "source": [
        "len(set(text3))# esto es igual que poner len(text3)"
      ],
      "metadata": {
        "id": "l74zrH6m9G4v"
      },
      "execution_count": null,
      "outputs": []
    },
    {
      "cell_type": "code",
      "execution_count": null,
      "metadata": {
        "id": "S1UkO80e6KMR"
      },
      "outputs": [],
      "source": [
        "#Ahora, calculemos una medida de la riqueza léxica del texto muy simple: número de palabras diferentes/número de palabras\n",
        "#Evidentemente cuanto mayor sea este número, mayor riqeuza tendrá, porque indica que el autor ha optado por nuevas palabras en vez de repetirlas.\n",
        "len(set(text4)) / len(text4)\n"
      ]
    },
    {
      "cell_type": "markdown",
      "metadata": {
        "id": "gc7RYkru7sgj"
      },
      "source": [
        "EJEMPLO DE DIVERSIDAD LÉXICA\n",
        "![diversidad léxica.jpg](data:image/jpeg;base64,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)"
      ]
    },
    {
      "cell_type": "code",
      "execution_count": null,
      "metadata": {
        "id": "TpHbzCWu6xFP"
      },
      "outputs": [],
      "source": [
        "#si queremos saber el porcentaje de aparición de una palabras respecto al corpus total\n",
        "100 * text4.count('a') / len(text4)"
      ]
    },
    {
      "cell_type": "code",
      "execution_count": null,
      "metadata": {
        "id": "CR_cOkv-8w5Z"
      },
      "outputs": [],
      "source": [
        "#Otra forma de encontrar las frecuencias absolutas de los tokens de un texto es con la función FreqDist()\n",
        "FreqDist(text1)"
      ]
    },
    {
      "cell_type": "code",
      "execution_count": null,
      "metadata": {
        "id": "Dbt_18egALl9"
      },
      "outputs": [],
      "source": [
        "#si quieres saber la frecuencia absoluta de las 50 primeras, por ejemplo.\n",
        "FreqDist(text1).most_common(50)\n"
      ]
    },
    {
      "cell_type": "code",
      "execution_count": null,
      "metadata": {
        "id": "bZb7LaHWAZkq",
        "colab": {
          "base_uri": "https://localhost:8080/"
        },
        "outputId": "6ecb548f-0d50-49f9-85cf-72c88efd40ba"
      },
      "outputs": [
        {
          "output_type": "execute_result",
          "data": {
            "text/plain": [
              "60"
            ]
          },
          "metadata": {},
          "execution_count": 42
        }
      ],
      "source": [
        "#Si lo quieres saber para una palabra en particular, lo ponemos en corchetes y entre comillas la palabra\n",
        "FreqDist(text5)['love']"
      ]
    },
    {
      "cell_type": "code",
      "source": [
        "FreqDist(text2)['love']/len(text2)"
      ],
      "metadata": {
        "id": "QmBqUJV_kwjk"
      },
      "execution_count": null,
      "outputs": []
    },
    {
      "cell_type": "code",
      "execution_count": null,
      "metadata": {
        "id": "IBXftS6FBIoJ"
      },
      "outputs": [],
      "source": [
        "#Si queremos obtener un gráfico de las palabras más frecuentes:\n",
        "FreqDist(text1).plot(50, cumulative=False)"
      ]
    },
    {
      "cell_type": "code",
      "execution_count": null,
      "metadata": {
        "id": "eDhnH-RCBe9C"
      },
      "outputs": [],
      "source": [
        "#Si queremos obtener un gráfico de las palabras más frecuentes:\n",
        "FreqDist(text1).plot(50, cumulative=True)#este caso se llama frecuencia absoluta acumulada y permite ver cuánto contribuye una nueva palabra al total del texto"
      ]
    },
    {
      "cell_type": "code",
      "execution_count": null,
      "metadata": {
        "id": "yHYTogh5HWmc"
      },
      "outputs": [],
      "source": [
        "#Una colocación es una secuencia de palabras que aparecen juntas con una frecuencia inusual. Así, el \"vino tinto\" es una colocación, mientras que \"el vino\" no lo es. \n",
        "#Una característica de las colocaciones es que son resistentes a la sustitución con palabras que tienen sentidos similares \"vino morado\".\n",
        "text1.collocations()#la función .collocations() te da las colocaciones de un texto a partir de likelihood_ratio"
      ]
    },
    {
      "cell_type": "code",
      "source": [
        "#supongamos que queremos obtener las palabras más largas de nuestro libro o texto\n",
        "long_words = []\n",
        "for w in set(text1):\n",
        "  if len(w) > 15:\n",
        "    long_words.append(w)\n",
        "     \n",
        "print(long_words)"
      ],
      "metadata": {
        "id": "Oth8E1aY_xPg"
      },
      "execution_count": null,
      "outputs": []
    },
    {
      "cell_type": "code",
      "source": [
        "#supongamos que queremos obtener las palabras más largas de nuestro libro o textom, pero centrándonos en aquellas que aparezcan más frecuentemente\n",
        "long_words = []\n",
        "fdist1 = FreqDist(text1)\n",
        "for w in set(text1):\n",
        "  if len(w) > 15  and fdist1[w] > 2:\n",
        "    long_words.append(w)\n",
        "     \n",
        "print(long_words)\n",
        "\n",
        "\n"
      ],
      "metadata": {
        "id": "CV4ylM_NAf24"
      },
      "execution_count": null,
      "outputs": []
    },
    {
      "cell_type": "code",
      "source": [
        "#si quieres encontrar cómo bajar más obras lo tienes aquí: https://www.nltk.org/howto/corpus.html\n",
        "from nltk.corpus import inaugural\n",
        "texto_como_lista = (inaugural.words())#se pasa a lista\n",
        "text = nltk.Text(inaugural.words())#con esta opción hacemos que el texto sea procesado por el nltk y se puedan usar todas sus funciones\n"
      ],
      "metadata": {
        "id": "jWuhC8XiDqzl"
      },
      "execution_count": null,
      "outputs": []
    },
    {
      "cell_type": "code",
      "execution_count": null,
      "metadata": {
        "id": "ytq2vfsCh5Ok"
      },
      "outputs": [],
      "source": [
        "#EJERCICIO DE CLASE#\n",
        "#Intenta buscar otras palabras. Por ejemplo, busca en el libro del Génesis la duración de la vida de algunas personas, utilizando text3.concordance(\"lived\")\n",
        "#Puedes consultar el texto4, el Inaugural Address Corpus, para ver ejemplos de inglés que se remontan a 1789, y buscar palabras como 'nation', 'terror', 'god' \n",
        "#para ver cómo estas palabras se han utilizado de forma diferente a lo largo del tiempo. En el text5, Chat corpus, puedes buscar palabras poco\n",
        "# convencionales como: 'im', 'ur', 'lol'.\n",
        "\n",
        "#Elige otro par de palabras y compara su uso en dos textos diferentes, usando las funciones similar() y common_contexts()\n",
        "#Genere el gráfico de dispersión de otras palabras e intente sacar alguna conclusión sobre su aparición en los mismos.\n",
        "\n",
        "#Explique la fórmula: 100 * text4.count('a') / len(text4)\n",
        "\n",
        "#Obtenga la distribución de frecuencias de las 20 palabras más frecuentes del text2 y haga un gráfico de las mismas.\n",
        "\n",
        "#Obtenga la colocaciones de otro de los textos y explique los resultados\n"
      ]
    },
    {
      "cell_type": "code",
      "execution_count": null,
      "metadata": {
        "id": "XSIbAeT-mfzR"
      },
      "outputs": [],
      "source": []
    }
  ],
  "metadata": {
    "colab": {
      "provenance": [],
      "authorship_tag": "ABX9TyN5ZYNidmTqXh4dmi8g8S0E",
      "include_colab_link": true
    },
    "kernelspec": {
      "display_name": "Python 3",
      "name": "python3"
    },
    "language_info": {
      "name": "python"
    }
  },
  "nbformat": 4,
  "nbformat_minor": 0
}