{
  "cells": [
    {
      "cell_type": "markdown",
      "metadata": {
        "id": "view-in-github",
        "colab_type": "text"
      },
      "source": [
        "<a href=\"https://colab.research.google.com/github/MarioCrespo/pruebapythonbot/blob/master/An%C3%A1lisis_sint%C3%A1ctico.ipynb\" target=\"_parent\"><img src=\"https://colab.research.google.com/assets/colab-badge.svg\" alt=\"Open In Colab\"/></a>"
      ]
    },
    {
      "cell_type": "markdown",
      "source": [
        "Reformulado de **https://notebook.community/vitojph/2016progpln/notebooks/7-nltk-analyzers**\n"
      ],
      "metadata": {
        "id": "L5AoZbD0jklM"
      }
    },
    {
      "cell_type": "code",
      "execution_count": null,
      "metadata": {
        "Collapsed": "false",
        "collapsed": true,
        "jupyter": {
          "outputs_hidden": true
        },
        "id": "6kXqXNVS5y5H"
      },
      "outputs": [],
      "source": [
        "import nltk"
      ]
    },
    {
      "cell_type": "markdown",
      "metadata": {
        "Collapsed": "false",
        "id": "fwel6j7q5y5J"
      },
      "source": [
        "## Gramáticas Independientes del Contexto (CFG)\n",
        "\n",
        "Noam Chomsky estableció una clasificación de lenguajes y gramáticas que se aplica comúnmente en la Lingüística y la Informática para categorizar lenguajes y gramáticas formales. Al intentar modelar fenómenos lingüísticos en lenguajes naturales, la gramática más apropiada es la denominada Tipo 2, también conocida como Gramáticas Independientes del Contexto o Context-Free Grammars (CFG) en inglés.\n",
        "\n",
        "Una gramática se define básicamente como un conjunto de reglas de transformación o reescritura. Sin profundizar en las restricciones que deben cumplir las reglas de las gramáticas de Tipo 2, es importante tener en cuenta lo siguiente:\n",
        "\n",
        "- Las gramáticas formales manejan dos tipos de alfabetos.\n",
        "  1. Los **símbolos no terminales** son los componentes intermedios que utilizamos en las reglas. Todo símbolo no terminal tiene que ser definido como una secuenca de otros símbolos. En nuestro caso, los no terminales van a ser las categorías sintácticas. \n",
        "  2. Los **símbolos terminales** son los componentes finales reconocidos por la gramática. En nuestro caso, los terminales van a ser las palabras de las oraciones que queremos analizar sintácticamente.\n",
        "- Todas las reglas de una gramática formal tienen la forma `Símbolo1 -> Símbolo2, Símbolo3... SímboloN` y se leen como *el `Símbolo1` se define/está formado/se reescribe como una secuencia formada por `Símbolo2`, `Símbolo3`, etc.*\n",
        "- En las gramáticas independientes del contexto, la parte situada a la izquierda de la flecha `->` es siempre un único símbolo no terminal.\n",
        "\n",
        "## Gramáticas Generativas en NLTK\n",
        "\n",
        "Pues bien, para definir nuestras gramáticas en NLTK podemos escribirlas en un fichero aparte o como una cadena de texto siguiendo el formalismo de las gramaticas generativas de Chomsky. Vamos a definir una sencilla gramática capaz de reconocer la famosa frase de los hermanos Marx *I shot an elephant in my pajamas*, y la vamos a guardar como una cadena de texto en la variable `g1`."
      ]
    },
    {
      "cell_type": "code",
      "execution_count": null,
      "metadata": {
        "Collapsed": "false",
        "collapsed": true,
        "jupyter": {
          "outputs_hidden": true
        },
        "id": "86qa8yDH5y5N"
      },
      "outputs": [],
      "source": [
        "g1 = \"\"\"\n",
        "S -> NP VP\n",
        "NP -> Det N | Det N PP | 'I'\n",
        "VP -> V NP | VP PP\n",
        "PP -> P NP\n",
        "Det -> 'an' | 'my'\n",
        "N -> 'elephant' | 'pajamas'\n",
        "V -> 'shot'\n",
        "P -> 'in'\n",
        "\"\"\""
      ]
    },
    {
      "cell_type": "markdown",
      "metadata": {
        "Collapsed": "false",
        "id": "TqebaGJ-5y5P"
      },
      "source": [
        "Fíjate cómo hemos definido nuestra gramática:\n",
        "\n",
        "- Hemos encerrado todo entre triples comillas dobles. Recuerda que esta sintaxis de Python permite crear cadenas que contengan retornos de carro y ocupen más de una línea de longitud.\n",
        "- Para los no terminales utilizamos las convenciones habituales para las estructuras sintácticas y las categorías de palabras y los escribimos en mayúsculas. Las etiquetas son autoexplicativas, aunque estén en inglés.\n",
        "- Lo no terminales van escritos entre comillas simples.\n",
        "- Cuando un no terminal se puede definir de más de una forma, marcamos la disyunción con la barra vertical `|`. \n",
        "- Tenemos reglas que se interpretan de la siguiente manera: *una oración se define como una sintagma nominal y un sintagma verbal*; *un sintagma nominal se define como un determinante y un nombre, o un determinante, un nombre y un sintagma preposicional, o la palabra I*, etc.\n",
        "\n",
        "A partir de nuestra gramática en una cadena de texto, necesitamos crear un analizador que podamos utilizar posterioremente. Para ello, es imprescindible parsearla antes con el método `nltk.CFG.fromstring()`."
      ]
    },
    {
      "cell_type": "code",
      "execution_count": null,
      "metadata": {
        "Collapsed": "false",
        "collapsed": true,
        "jupyter": {
          "outputs_hidden": true
        },
        "id": "jnvLPzFd5y5R"
      },
      "outputs": [],
      "source": [
        "grammar1 = nltk.CFG.fromstring(g1)"
      ]
    },
    {
      "cell_type": "markdown",
      "metadata": {
        "Collapsed": "false",
        "id": "O9Myd8e85y5S"
      },
      "source": [
        "Con el objeto `grammar1` ya creado, creamos el analizador con el método `nltk.ChatParser`."
      ]
    },
    {
      "cell_type": "code",
      "execution_count": null,
      "metadata": {
        "Collapsed": "false",
        "collapsed": true,
        "jupyter": {
          "outputs_hidden": true
        },
        "id": "XjCtoCGJ5y5U"
      },
      "outputs": [],
      "source": [
        "analyzer = nltk.ChartParser(grammar1)"
      ]
    },
    {
      "cell_type": "markdown",
      "metadata": {
        "Collapsed": "false",
        "id": "xYoayDhs5y5V"
      },
      "source": [
        "Una vez creado nuestro analizador ya lo podemos utilizar. Tenemos a nuestro alcance el método `.parse` para analizar sintácticamente cualquier oración que se especifique como una cadena de palabras. Nuestra gramática es bastante limitada, pero podemos utilizarla para analizar la oración *I shot an elephant in my pajamas*. Si imprimimos el resultado del método, obtenemos el árbol sintáctico."
      ]
    },
    {
      "cell_type": "code",
      "execution_count": null,
      "metadata": {
        "Collapsed": "false",
        "id": "_oAxOZxo5y5W"
      },
      "outputs": [],
      "source": [
        "oracion = \"I shot an elephant in my pajamas\".split()\n",
        "# guardamos todos los posibles análisis sintácticos en trees\n",
        "trees = analyzer.parse(oracion)\n",
        "for tree in trees:\n",
        "    print(tree)"
      ]
    },
    {
      "cell_type": "markdown",
      "metadata": {
        "Collapsed": "false",
        "id": "OvhTW5Dw5y5Y"
      },
      "source": [
        "Por si no te has dado cuenta, la oración *I shot an elephant in my pajamas* es ambigua en inglés: se trata del típico ejemplo de *PP attachment* (saber exactamente a qué nodo está modificando un sintagma preposicional). Existe una doble interpretación para el sintagma preposicional *in my pajamas*: En el momento del disparo, ¿quién llevaba puesto el pijama? ¿El elefante o yo? Pues bien, nuestra gramática recoge esta ambigüedad y sería capaz de analizarla de dos maneras diferentes, tal y como se muestra en la celda anterior. \n",
        "\n",
        "En el caso de que nos interese solo generar uno de los posibles análisis, podemos utilizar el método `parse_one()`, como se muestra a continuación."
      ]
    },
    {
      "cell_type": "code",
      "execution_count": null,
      "metadata": {
        "Collapsed": "false",
        "collapsed": true,
        "jupyter": {
          "outputs_hidden": true
        },
        "id": "iBFDLRlC5y51",
        "colab": {
          "base_uri": "https://localhost:8080/"
        },
        "outputId": "a78dc371-d3a4-45b0-e434-c7f13bff6946"
      },
      "outputs": [
        {
          "output_type": "stream",
          "name": "stdout",
          "text": [
            "(S\n",
            "  (NP I)\n",
            "  (VP\n",
            "    (VP (V shot) (NP (Det an) (N elephant)))\n",
            "    (PP (P in) (NP (Det my) (N pajamas)))))\n"
          ]
        }
      ],
      "source": [
        "print(analyzer.parse_one(oracion))"
      ]
    },
    {
      "cell_type": "markdown",
      "metadata": {
        "Collapsed": "false",
        "id": "4hObLTWY5y52"
      },
      "source": [
        "Recuerda que para imprimir el árbol sintáctico hay que iterar (con un bucle `for`, por ejemplo) sobre el objeto que devuelve el método `parse()` y utilizar la función `print`."
      ]
    },
    {
      "cell_type": "code",
      "execution_count": null,
      "metadata": {
        "Collapsed": "false",
        "collapsed": true,
        "jupyter": {
          "outputs_hidden": true
        },
        "id": "9cUBrmfW5y53"
      },
      "outputs": [],
      "source": [
        "print(analyzer.parse(oracion))"
      ]
    },
    {
      "cell_type": "markdown",
      "metadata": {
        "Collapsed": "false",
        "id": "DELNdF1o5y54"
      },
      "source": [
        "A continuación modifico ligeramente mi gramática `g1` para incluir una nueva categoría gramatical `PRO` y añadir algo de volcabulario nuevo. Compara ambos ejemplos:"
      ]
    },
    {
      "cell_type": "code",
      "execution_count": null,
      "metadata": {
        "Collapsed": "false",
        "collapsed": true,
        "jupyter": {
          "outputs_hidden": true
        },
        "id": "sufK4p4B5y55",
        "colab": {
          "base_uri": "https://localhost:8080/"
        },
        "outputId": "52c8b358-a3a5-4094-98a3-6719fa8436b3"
      },
      "outputs": [
        {
          "output_type": "stream",
          "name": "stdout",
          "text": [
            "(S\n",
            "  (NP (PRO I))\n",
            "  (VP\n",
            "    (VP (V shot) (NP (Det an) (N elephant)))\n",
            "    (PP (P in) (NP (Det my) (N pajamas)))))\n",
            "(S\n",
            "  (NP (PRO I))\n",
            "  (VP\n",
            "    (V shot)\n",
            "    (NP (Det an) (N elephant) (PP (P in) (NP (Det my) (N pajamas))))))\n",
            "\n",
            " ------------------------------- \n",
            "\n",
            "(S (NP (PRO you)) (VP (V shot) (NP (Det my) (N elephant))))\n"
          ]
        }
      ],
      "source": [
        "g1v2 = \"\"\"\n",
        "S -> NP VP\n",
        "NP -> Det N | Det N PP | PRO\n",
        "VP -> V NP | VP PP\n",
        "PP -> P NP\n",
        "Det -> 'an' | 'my'\n",
        "PRO -> 'I' | 'you'\n",
        "N -> 'elephant' | 'pajamas'\n",
        "V -> 'shot'\n",
        "P -> 'in'\n",
        "\"\"\"\n",
        "\n",
        "grammar1v2 = nltk.CFG.fromstring(g1v2)\n",
        "analyzer1v2 = nltk.ChartParser(grammar1v2)\n",
        "\n",
        "# itero sobre la estructura que devuelve parse()\n",
        "for tree in analyzer1v2.parse(oracion):\n",
        "    print(tree)\n",
        "\n",
        "print(\"\\n\", \"-------------------------------\", \"\\n\")\n",
        "for tree in analyzer1v2.parse(\"you shot my elephant\".split()):\n",
        "    print(tree)"
      ]
    },
    {
      "cell_type": "markdown",
      "metadata": {
        "Collapsed": "false",
        "id": "qx0wjJr75y56"
      },
      "source": [
        "### NOTA IMPORTANTE sobre errores y el comportamiento de `parse()`\n",
        "\n",
        "Cuando un analizador reconoce todo el vocabulario de una oración de entrada pero es incapaz de analizarla, el método `parse()` no da error pero devuelve un objeto vacío. En este caso, la oración es agramatical según nuestra gramática.\n"
      ]
    },
    {
      "cell_type": "code",
      "execution_count": null,
      "metadata": {
        "Collapsed": "false",
        "collapsed": true,
        "jupyter": {
          "outputs_hidden": true
        },
        "id": "c7M25CSw5y57"
      },
      "outputs": [],
      "source": [
        "for tree in analyzer.parse(\"shot an pajamas elephant my I\".split()):\n",
        "    print(\"El análisis sintáctico es el siguiente\")\n",
        "    print(tree)"
      ]
    },
    {
      "cell_type": "markdown",
      "metadata": {
        "Collapsed": "false",
        "id": "X0uoe0lN5y58"
      },
      "source": [
        "Sin embargo, cuando el analizador no reconoce todo el vocabulario (porque utilizamos una palabra no definida dentro del léxico), el método `parse()` falla y muestra un mensaje de error de tipo `ValueError` como el siguiente. Fíjate solo en la última línea:"
      ]
    },
    {
      "cell_type": "code",
      "execution_count": null,
      "metadata": {
        "Collapsed": "false",
        "collapsed": true,
        "jupyter": {
          "outputs_hidden": true
        },
        "id": "GhSvSzDM5y5-"
      },
      "outputs": [],
      "source": [
        "for tree in analyzer.parse(\"our time is running out\".split()):\n",
        "    print(\"El análisis sintáctico es el siguiente\")\n",
        "    print(tree)"
      ]
    },
    {
      "cell_type": "markdown",
      "metadata": {
        "Collapsed": "false",
        "id": "l3oXSn6-5y5_"
      },
      "source": [
        "Tenlo en cuenta a la hora de detectar errores en tu código. \n",
        "\n",
        "\n",
        "## Gramáticas en español\n",
        "\n",
        "Visto un primer ejemplo de CFG, vamos a cambiar de lengua y crear un analizador para oraciones sencillas en español. El procedimiento es el mismo, definimos nuestra gramática en formato de Chomsky en un fichero aparte o en una cadena de texto, la parseamos con el método `nltk.CFG.fromstring()` y creamos un analizador con el método `nltk.ChartParser()`:"
      ]
    },
    {
      "cell_type": "code",
      "execution_count": null,
      "metadata": {
        "Collapsed": "false",
        "collapsed": true,
        "jupyter": {
          "outputs_hidden": true
        },
        "id": "HRFdaurB5y6A"
      },
      "outputs": [],
      "source": [
        "g2 = \"\"\"\n",
        "O -> SN SV\n",
        "SN -> Det N | Det N Adj | Det Adj N | NProp | SN SP\n",
        "SV -> V | V SN | V SP | V SN SP\n",
        "SP -> Prep SN\n",
        "Det -> 'el' | 'la' | 'un' | 'una' \n",
        "N -> 'niño' | 'niña' | 'manzana' | 'pera' | 'cuchillo'\n",
        "NProp -> 'Juan' | 'Ana' | 'Perico' \n",
        "Adj -> 'bonito' | 'pequeña' | 'verde'\n",
        "V -> 'come' | 'salta' | 'pela' | 'persigue'\n",
        "Prep -> 'de' | 'con' | 'desde' | 'a'\n",
        "\"\"\"\n",
        "\n",
        "grammar2 = nltk.CFG.fromstring(g2)\n",
        "analizador2 = nltk.ChartParser(grammar2)"
      ]
    },
    {
      "cell_type": "markdown",
      "metadata": {
        "Collapsed": "false",
        "id": "vcUXvqy85y6C"
      },
      "source": [
        "Vamos a probar si es capaz de analizar distintas oraciones es español. Para hacerlo más divertido, vamos a guardar varias oraciones separadas por un intro (simbolizado por el metacarácter `\\n`) en una lista de cadenas llamda `oraciones`. Iteramos sobre esas oraciones, las imprimimos, después las rompemos en listas de palabras (con el método `.split()`) e imprimimos el resultado de analizarlas con nuestro analizador.\n"
      ]
    },
    {
      "cell_type": "code",
      "execution_count": null,
      "metadata": {
        "Collapsed": "false",
        "collapsed": true,
        "jupyter": {
          "outputs_hidden": true
        },
        "id": "wU-pq6Xb5y6D",
        "colab": {
          "base_uri": "https://localhost:8080/"
        },
        "outputId": "a515d38c-f6e9-4f49-c5f7-4c0498689c3f"
      },
      "outputs": [
        {
          "output_type": "stream",
          "name": "stdout",
          "text": [
            "Ana salta\n",
            "(O (SN (NProp Ana)) (SV (V salta))) \n",
            "\n",
            "la niña pela una manzana verde con el cuchillo\n",
            "(O\n",
            "  (SN (Det la) (N niña))\n",
            "  (SV\n",
            "    (V pela)\n",
            "    (SN (Det una) (N manzana) (Adj verde))\n",
            "    (SP (Prep con) (SN (Det el) (N cuchillo))))) \n",
            "\n",
            "(O\n",
            "  (SN (Det la) (N niña))\n",
            "  (SV\n",
            "    (V pela)\n",
            "    (SN\n",
            "      (SN (Det una) (N manzana) (Adj verde))\n",
            "      (SP (Prep con) (SN (Det el) (N cuchillo)))))) \n",
            "\n",
            "Juan come un cuchillo bonito desde el niño\n",
            "(O\n",
            "  (SN (NProp Juan))\n",
            "  (SV\n",
            "    (V come)\n",
            "    (SN (Det un) (N cuchillo) (Adj bonito))\n",
            "    (SP (Prep desde) (SN (Det el) (N niño))))) \n",
            "\n",
            "(O\n",
            "  (SN (NProp Juan))\n",
            "  (SV\n",
            "    (V come)\n",
            "    (SN\n",
            "      (SN (Det un) (N cuchillo) (Adj bonito))\n",
            "      (SP (Prep desde) (SN (Det el) (N niño)))))) \n",
            "\n",
            "un manzana bonito salta el cuchillo desde el niño verde\n",
            "(O\n",
            "  (SN (Det un) (N manzana) (Adj bonito))\n",
            "  (SV\n",
            "    (V salta)\n",
            "    (SN (Det el) (N cuchillo))\n",
            "    (SP (Prep desde) (SN (Det el) (N niño) (Adj verde))))) \n",
            "\n",
            "(O\n",
            "  (SN (Det un) (N manzana) (Adj bonito))\n",
            "  (SV\n",
            "    (V salta)\n",
            "    (SN\n",
            "      (SN (Det el) (N cuchillo))\n",
            "      (SP (Prep desde) (SN (Det el) (N niño) (Adj verde)))))) \n",
            "\n",
            "el cuchillo verde persigue a la pequeña manzana de Ana\n",
            "(O\n",
            "  (SN (Det el) (N cuchillo) (Adj verde))\n",
            "  (SV\n",
            "    (V persigue)\n",
            "    (SP\n",
            "      (Prep a)\n",
            "      (SN\n",
            "        (SN (Det la) (Adj pequeña) (N manzana))\n",
            "        (SP (Prep de) (SN (NProp Ana))))))) \n",
            "\n",
            "el cuchillo verde persigue a Ana\n",
            "(O\n",
            "  (SN (Det el) (N cuchillo) (Adj verde))\n",
            "  (SV (V persigue) (SP (Prep a) (SN (NProp Ana))))) \n",
            "\n"
          ]
        }
      ],
      "source": [
        "oraciones = \"\"\"Ana salta\n",
        "la niña pela una manzana verde con el cuchillo\n",
        "Juan come un cuchillo bonito desde el niño\n",
        "un manzana bonito salta el cuchillo desde el niño verde\n",
        "el cuchillo verde persigue a la pequeña manzana de Ana\n",
        "el cuchillo verde persigue a Ana\"\"\".split(\n",
        "    \"\\n\"\n",
        ")\n",
        "\n",
        "for oracion in oraciones:\n",
        "    print(oracion)\n",
        "    for tree in analizador2.parse(oracion.split()):\n",
        "        print(tree, \"\\n\")"
      ]
    },
    {
      "cell_type": "markdown",
      "metadata": {
        "Collapsed": "false",
        "id": "iXHrJ2Yq5y6E"
      },
      "source": [
        "Vamos a aumentar la cobertura de nuestra gramática de modo que sea capaz de reconocer y analizar oraciones coordinadas. Para ello, modificamos la regla en la que definimos la oración añadiendo una definición recursivaque defina oración como la secuencia de una oración (`O`) seguida de una conjunción (`Conj`) y de otra oración (`O`). Por último añadimos también algo de léxico nuevo: un par de conjunciones."
      ]
    },
    {
      "cell_type": "code",
      "execution_count": null,
      "metadata": {
        "Collapsed": "false",
        "collapsed": true,
        "jupyter": {
          "outputs_hidden": true
        },
        "id": "tse76sKW5y6F"
      },
      "outputs": [],
      "source": [
        "g3 = \"\"\"\n",
        "O -> SN SV | O Conj O\n",
        "SN -> Det N | Det N Adj | Det Adj N | NProp | SN SP\n",
        "SV -> V | V SN | V SP | V SN SP\n",
        "SP -> Prep SN\n",
        "Det -> 'el' | 'la' | 'un' | 'una' \n",
        "N -> 'niño' | 'niña' | 'manzana' | 'pera' | 'cuchillo'\n",
        "NProp -> 'Juan' | 'Ana' | 'Perico' \n",
        "Adj -> 'bonito' | 'pequeña' | 'verde'\n",
        "V -> 'come' | 'salta' | 'pela' | 'persigue'\n",
        "Prep -> 'de' | 'con' | 'desde' | 'a'\n",
        "Conj -> 'y' | 'pero'\n",
        "\"\"\"\n",
        "\n",
        "# Ahora fijate cómo creamos en analizador en un solo paso\n",
        "# compáralo con los ejemplos anteriores\n",
        "analizador3 = nltk.ChartParser(nltk.CFG.fromstring(g3))"
      ]
    },
    {
      "cell_type": "code",
      "execution_count": null,
      "metadata": {
        "Collapsed": "false",
        "collapsed": true,
        "jupyter": {
          "outputs_hidden": true
        },
        "id": "A63myZbs5y6G"
      },
      "outputs": [],
      "source": [
        "for tree in analizador3.parse(\n",
        "    \"\"\"la manzana salta y el niño come pero el cuchillo \n",
        "verde persigue a la pequeña manzana de Ana\"\"\".split()\n",
        "):\n",
        "    print(tree)"
      ]
    },
    {
      "cell_type": "markdown",
      "metadata": {
        "Collapsed": "false",
        "id": "KLp85SUb5y6H"
      },
      "source": [
        "Recuerda que una gramática no es un programa: es una simple descripción que permite establecer qué estructuras sintácticas están bien formadas (la oraciones gramaticales) y cuáles no (las oraciones agramaticales). Cuando una oración es reconocida por una gramática (y en consecuencia, está bien formada), el analizador puede representar la estructura en forma de árbol.\n",
        "\n",
        "NLTK proporciona acceso a distintos tipo de analizadores (árboles de dependencias, gramáticas probabilísticas, etc), aunque nosotros solo hemos utilizado el más sencillo de ellos: `nltk.ChartParser()`. Estos analizadores sí son programitas que permiten leer una gramática y analizar las oraciones que proporcionemos como entrada del método `parse()`.\n",
        "\n",
        "## Otro ejemplo\n",
        "\n",
        "En clase improvisamos un poco y proponemos el siguiente ejemplo de gramática. Vamos a ir complicándola de manera incremental. Comencemos con unas cuantas oraciones de ejemplo. "
      ]
    },
    {
      "cell_type": "code",
      "execution_count": null,
      "metadata": {
        "Collapsed": "false",
        "collapsed": true,
        "jupyter": {
          "outputs_hidden": true
        },
        "id": "iaxeW-Vf5y6I"
      },
      "outputs": [],
      "source": [
        "# ojo, son sencillas, pero contienen oraciones impersonales, verbos copulativos, sujetos elípticos\n",
        "oraciones = \"\"\"Juan come patatas\n",
        "yo voy a clase\n",
        "nosotros aprobamos la asignatura\n",
        "hace calor\"\"\".split(\n",
        "    \"\\n\"\n",
        ")\n",
        "#yo hace calor*\n",
        "#nosotros voy a clase*\n",
        "#juan come la asignatura*"
      ]
    },
    {
      "cell_type": "code",
      "source": [
        "oraciones = \"\"\"\n",
        "S -> \n",
        "\"\"\""
      ],
      "metadata": {
        "id": "_asrbBvrH819"
      },
      "execution_count": null,
      "outputs": []
    },
    {
      "cell_type": "code",
      "execution_count": null,
      "metadata": {
        "Collapsed": "false",
        "collapsed": true,
        "jupyter": {
          "outputs_hidden": true
        },
        "id": "npdxC7aK5y6I"
      },
      "outputs": [],
      "source": [
        "# escribe tu gramática en esta celda\n",
        "g4 = \"\"\"\n",
        "\"\"\"\n",
        "\n",
        "analyzer4 = nltk.ChartParser(nltk.CFG.fromtring(g4))"
      ]
    },
    {
      "cell_type": "code",
      "execution_count": null,
      "metadata": {
        "Collapsed": "false",
        "collapsed": true,
        "jupyter": {
          "outputs_hidden": true
        },
        "id": "E8X9U6Ks5y6J"
      },
      "outputs": [],
      "source": [
        "# ¿qué tal funciona?\n",
        "for oracion in oraciones:\n",
        "    print(oracion)\n",
        "    for tree in analyzer4.parse(oracion.split()):\n",
        "        print(tree, \"\\n\")"
      ]
    },
    {
      "cell_type": "markdown",
      "metadata": {
        "Collapsed": "false",
        "id": "DwFvxrPj5y6K"
      },
      "source": [
        "¿Podemos extender `g4` para que reconozca oraciones subordinadas introducidas con *verbos de lengua* o *de pensamiento*. Me refiero a oraciones del tipo: *Pepe cree que mañana es viernes*, *María dice que Pepe cree que mañana es viernes*, etc.\n",
        "\n",
        "Aumenta tu vocabulario añadiendo tantos terminales como te haga falta."
      ]
    },
    {
      "cell_type": "code",
      "execution_count": null,
      "metadata": {
        "Collapsed": "false",
        "id": "Z7ioojDQ5y6L"
      },
      "outputs": [],
      "source": [
        "oraciones = \"\"\"Pepe cree que mañana es viernes\n",
        "María dice que Pepe cree que mañana es viernes\"\"\".split()\n",
        "\n",
        "# escribe la extensión de tu gramática en esta celda\n",
        "g5 = \"\"\"\n",
        "\"\"\"\n",
        "\n",
        "analyzer5 = nltk.ChartParser(nltk.CFG.fromstring(g5))\n",
        "\n",
        "# ¿qué tal funciona?\n",
        "for oracion in oraciones:\n",
        "    print(oracion)\n",
        "    for tree in analyzer5.parse(oracion.split()):\n",
        "        print(tree, \"\\n\")"
      ]
    }
  ],
  "metadata": {
    "kernelspec": {
      "display_name": "Python 3",
      "language": "python",
      "name": "python3"
    },
    "language_info": {
      "codemirror_mode": {
        "name": "ipython",
        "version": 3
      },
      "file_extension": ".py",
      "mimetype": "text/x-python",
      "name": "python",
      "nbconvert_exporter": "python",
      "pygments_lexer": "ipython3",
      "version": "3.7.6"
    },
    "colab": {
      "provenance": [],
      "include_colab_link": true
    }
  },
  "nbformat": 4,
  "nbformat_minor": 0
}